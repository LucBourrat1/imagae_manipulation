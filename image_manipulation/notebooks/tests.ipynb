{
 "cells": [
  {
   "cell_type": "markdown",
   "metadata": {},
   "source": [
    "# Environment"
   ]
  },
  {
   "cell_type": "code",
   "execution_count": 4,
   "metadata": {},
   "outputs": [],
   "source": [
    "import torch"
   ]
  },
  {
   "cell_type": "markdown",
   "metadata": {},
   "source": [
    "# Vanilla AutoEncoder tests"
   ]
  },
  {
   "cell_type": "code",
   "execution_count": 2,
   "metadata": {},
   "outputs": [],
   "source": [
    "from torchsummary import summary\n",
    "from image_manipulation.models.vanilla_autoencoder import VanillaAutoEncoder"
   ]
  },
  {
   "cell_type": "code",
   "execution_count": 9,
   "metadata": {},
   "outputs": [
    {
     "name": "stdout",
     "output_type": "stream",
     "text": [
      "==========================================================================================\n",
      "Layer (type:depth-idx)                   Output Shape              Param #\n",
      "==========================================================================================\n",
      "├─Sequential: 1-1                        [-1, 3]                   --\n",
      "|    └─Linear: 2-1                       [-1, 128]                 100,480\n",
      "|    └─ReLU: 2-2                         [-1, 128]                 --\n",
      "|    └─Linear: 2-3                       [-1, 64]                  8,256\n",
      "|    └─ReLU: 2-4                         [-1, 64]                  --\n",
      "|    └─Linear: 2-5                       [-1, 3]                   195\n",
      "├─Sequential: 1-2                        [-1, 784]                 --\n",
      "|    └─Linear: 2-6                       [-1, 64]                  256\n",
      "|    └─ReLU: 2-7                         [-1, 64]                  --\n",
      "|    └─Linear: 2-8                       [-1, 128]                 8,320\n",
      "|    └─ReLU: 2-9                         [-1, 128]                 --\n",
      "|    └─Linear: 2-10                      [-1, 784]                 101,136\n",
      "|    └─Tanh: 2-11                        [-1, 784]                 --\n",
      "==========================================================================================\n",
      "Total params: 218,643\n",
      "Trainable params: 218,643\n",
      "Non-trainable params: 0\n",
      "Total mult-adds (M): 0.43\n",
      "==========================================================================================\n",
      "Input size (MB): 0.00\n",
      "Forward/backward pass size (MB): 0.01\n",
      "Params size (MB): 0.83\n",
      "Estimated Total Size (MB): 0.85\n",
      "==========================================================================================\n"
     ]
    }
   ],
   "source": [
    "device = \"cuda\" if torch.cuda.is_available() else \"cpu\"\n",
    "model = VanillaAutoEncoder(latent_dim=3).to(device)\n",
    "_ = summary(model, torch.zeros(1, 28, 28))"
   ]
  },
  {
   "cell_type": "code",
   "execution_count": 14,
   "metadata": {},
   "outputs": [],
   "source": [
    "from image_manipulation.datasets.mnist import MnistDataset"
   ]
  }
 ],
 "metadata": {
  "kernelspec": {
   "display_name": "image_manip",
   "language": "python",
   "name": "python3"
  },
  "language_info": {
   "codemirror_mode": {
    "name": "ipython",
    "version": 3
   },
   "file_extension": ".py",
   "mimetype": "text/x-python",
   "name": "python",
   "nbconvert_exporter": "python",
   "pygments_lexer": "ipython3",
   "version": "3.11.9"
  }
 },
 "nbformat": 4,
 "nbformat_minor": 2
}
